{
 "cells": [
  {
   "cell_type": "code",
   "id": "initial_id",
   "metadata": {
    "collapsed": true,
    "ExecuteTime": {
     "end_time": "2024-10-24T01:33:12.791613Z",
     "start_time": "2024-10-24T01:33:12.342506Z"
    }
   },
   "source": [
    "from pyspark.sql import SparkSession\n",
    "from pyspark.sql.functions import hour, year, unix_timestamp, col, udf\n",
    "from pyspark.sql.types import DoubleType, IntegerType, TimestampType\n",
    "from pyspark.ml.feature import VectorAssembler\n",
    "from pyspark.ml.regression import RandomForestRegressor\n",
    "from pyspark.ml.evaluation import RegressionEvaluator\n",
    "import math"
   ],
   "outputs": [],
   "execution_count": 1
  },
  {
   "metadata": {
    "ExecuteTime": {
     "end_time": "2024-10-24T01:33:54.289922Z",
     "start_time": "2024-10-24T01:33:54.264923Z"
    }
   },
   "cell_type": "code",
   "source": [
    "spark = SparkSession.builder \\\n",
    "    .appName(\"Taxi Fare Prediction\") \\\n",
    "    .config(\"spark.executor.memory\", \"8g\") \\\n",
    "    .config(\"spark.driver.memory\", \"8g\") \\\n",
    "    .config(\"spark.executor.cores\", \"2\") \\\n",
    "    .config(\"spark.driver.maxResultSize\", \"1g\") \\\n",
    "    .config(\"spark.network.timeout\", \"800s\") \\\n",
    "    .config(\"spark.executor.heartbeatInterval\", \"100s\") \\\n",
    "    .getOrCreate()\n"
   ],
   "id": "997a58bda7c36a25",
   "outputs": [],
   "execution_count": 4
  },
  {
   "metadata": {
    "ExecuteTime": {
     "end_time": "2024-10-24T01:34:59.717008Z",
     "start_time": "2024-10-24T01:33:54.934090Z"
    }
   },
   "cell_type": "code",
   "source": [
    "\n",
    "csv_files_path = \"hdfs://localhost:9000/Bigdata/*.csv\"\n",
    "combined_df = spark.read.csv(csv_files_path, header=True, inferSchema=True)\n"
   ],
   "id": "34c5cb0097821bfa",
   "outputs": [],
   "execution_count": 5
  },
  {
   "metadata": {
    "ExecuteTime": {
     "end_time": "2024-10-24T01:35:10.213809Z",
     "start_time": "2024-10-24T01:34:59.722934Z"
    }
   },
   "cell_type": "code",
   "source": "combined_df.count()",
   "id": "9be1be1ff5aba06a",
   "outputs": [
    {
     "data": {
      "text/plain": [
       "73050975"
      ]
     },
     "execution_count": 6,
     "metadata": {},
     "output_type": "execute_result"
    }
   ],
   "execution_count": 6
  },
  {
   "metadata": {
    "ExecuteTime": {
     "end_time": "2024-10-24T01:35:10.421808Z",
     "start_time": "2024-10-24T01:35:10.295799Z"
    }
   },
   "cell_type": "code",
   "source": [
    "combined_df = combined_df.withColumn(\"passenger_count\", combined_df[\"passenger_count\"].cast(IntegerType())) \\\n",
    "    .withColumn(\"trip_distance\", combined_df[\"trip_distance\"].cast(DoubleType())) \\\n",
    "    .withColumn(\"pickup_longitude\", combined_df[\"pickup_longitude\"].cast(DoubleType())) \\\n",
    "    .withColumn(\"pickup_latitude\", combined_df[\"pickup_latitude\"].cast(DoubleType())) \\\n",
    "    .withColumn(\"dropoff_longitude\", combined_df[\"dropoff_longitude\"].cast(DoubleType())) \\\n",
    "    .withColumn(\"dropoff_latitude\", combined_df[\"dropoff_latitude\"].cast(DoubleType())) \\\n",
    "    .withColumn(\"fare_amount\", combined_df[\"fare_amount\"].cast(DoubleType())) \\\n",
    "    .withColumn(\"tpep_pickup_datetime\", combined_df[\"tpep_pickup_datetime\"].cast(TimestampType())) \\\n",
    "    .withColumn(\"tpep_dropoff_datetime\", combined_df[\"tpep_dropoff_datetime\"].cast(TimestampType()))\n"
   ],
   "id": "5175857d45cb8d1a",
   "outputs": [],
   "execution_count": 7
  },
  {
   "metadata": {
    "ExecuteTime": {
     "end_time": "2024-10-24T01:35:10.483788Z",
     "start_time": "2024-10-24T01:35:10.438811Z"
    }
   },
   "cell_type": "code",
   "source": [
    "# Chọn các cột cần thiết\n",
    "df = combined_df.select(\"VendorID\", \"tpep_pickup_datetime\", \"tpep_dropoff_datetime\", \"passenger_count\", \n",
    "               \"trip_distance\", \"pickup_longitude\", \"pickup_latitude\", \n",
    "               \"RatecodeID\", \"dropoff_longitude\", \"dropoff_latitude\", \"payment_type\", \"fare_amount\")\n"
   ],
   "id": "546608b6681ab3ca",
   "outputs": [],
   "execution_count": 8
  },
  {
   "metadata": {
    "ExecuteTime": {
     "end_time": "2024-10-24T01:35:10.560537Z",
     "start_time": "2024-10-24T01:35:10.499576Z"
    }
   },
   "cell_type": "code",
   "source": [
    "# Thêm cột thời gian chuyến đi, giờ đón, và năm\n",
    "df = df.withColumn(\"trip_duration\", \n",
    "                   (unix_timestamp(\"tpep_dropoff_datetime\") - unix_timestamp(\"tpep_pickup_datetime\")) / 60) \\\n",
    "       .withColumn(\"pickup_hour\", hour(\"tpep_pickup_datetime\")) \\\n",
    "       .withColumn(\"pickup_year\", year(\"tpep_pickup_datetime\"))"
   ],
   "id": "ba0bb41fbacdfa6b",
   "outputs": [],
   "execution_count": 9
  },
  {
   "metadata": {
    "ExecuteTime": {
     "end_time": "2024-10-24T01:35:10.591544Z",
     "start_time": "2024-10-24T01:35:10.578540Z"
    }
   },
   "cell_type": "code",
   "source": [
    "# Hàm Haversine tính khoảng cách giữa hai điểm dựa trên kinh độ và vĩ độ\n",
    "def haversine(lat1, lon1, lat2, lon2):\n",
    "    R = 6371.0  # Bán kính trái đất (km)\n",
    "    \n",
    "    dlat = math.radians(lat2 - lat1)\n",
    "    dlon = math.radians(lon2 - lon1)\n",
    "    \n",
    "    a = math.sin(dlat / 2)**2 + math.cos(math.radians(lat1)) * math.cos(math.radians(lat2)) * math.sin(dlon / 2)**2\n",
    "    c = 2 * math.atan2(math.sqrt(a), math.sqrt(1 - a))\n",
    "    \n",
    "    distance = R * c\n",
    "    return distance\n"
   ],
   "id": "58eacc1bf8a27747",
   "outputs": [],
   "execution_count": 10
  },
  {
   "metadata": {
    "ExecuteTime": {
     "end_time": "2024-10-24T01:35:10.622180Z",
     "start_time": "2024-10-24T01:35:10.607914Z"
    }
   },
   "cell_type": "code",
   "source": [
    "# Tạo UDF (User Defined Function) để tính khoảng cách\n",
    "haversine_udf = udf(haversine, DoubleType())\n"
   ],
   "id": "32129163a5c44d09",
   "outputs": [],
   "execution_count": 11
  },
  {
   "metadata": {
    "ExecuteTime": {
     "end_time": "2024-10-24T01:35:10.670266Z",
     "start_time": "2024-10-24T01:35:10.639182Z"
    }
   },
   "cell_type": "code",
   "source": [
    "# Áp dụng hàm Haversine để tính khoảng cách giữa điểm đón và trả khách\n",
    "df = df.withColumn(\"distance_haversine\", \n",
    "                   haversine_udf(col(\"pickup_latitude\"), col(\"pickup_longitude\"), \n",
    "                                 col(\"dropoff_latitude\"), col(\"dropoff_longitude\")))\n",
    "\n",
    "# Chọn cột để dự đoán\n",
    "selected_columns = [\"passenger_count\", \"trip_distance\", \"pickup_longitude\", \"pickup_latitude\", \n",
    "                   \"dropoff_longitude\", \"dropoff_latitude\", \"trip_duration\", \"pickup_hour\", \n",
    "                   \"pickup_year\", \"distance_haversine\"]\n"
   ],
   "id": "83b488fc5afb2e03",
   "outputs": [],
   "execution_count": 12
  },
  {
   "metadata": {
    "ExecuteTime": {
     "end_time": "2024-10-24T01:35:10.814266Z",
     "start_time": "2024-10-24T01:35:10.688277Z"
    }
   },
   "cell_type": "code",
   "source": [
    "\n",
    "# Xây dựng Vector Assembler với cột mới\n",
    "vector_assembler = VectorAssembler(inputCols=selected_columns, outputCol=\"features\")\n",
    "data = vector_assembler.transform(df)\n"
   ],
   "id": "886f12ec065d6034",
   "outputs": [],
   "execution_count": 13
  },
  {
   "metadata": {
    "ExecuteTime": {
     "end_time": "2024-10-24T04:04:02.251510Z",
     "start_time": "2024-10-24T01:35:10.832263Z"
    }
   },
   "cell_type": "code",
   "source": [
    "from pyspark.sql import functions as F\n",
    "# Xáo trộn dữ liệu\n",
    "data = data.orderBy(F.rand())\n",
    "\n",
    "# Chia tập dữ liệu thành tập train và test\n",
    "(train_data, test_data) = data.randomSplit([0.8, 0.2], seed=42)\n",
    "\n",
    "train_data.cache()\n",
    "test_data.cache()\n",
    "# Xây dựng mô hình Random Forest\n",
    "rf = RandomForestRegressor(featuresCol=\"features\", labelCol=\"fare_amount\", \n",
    "                           numTrees=100, maxDepth=10, minInstancesPerNode=4,featureSubsetStrategy=\"sqrt\"\n",
    "                           )\n",
    "\n",
    "# Huấn luyện mô hình\n",
    "model = rf.fit(train_data)"
   ],
   "id": "5ecab08a7fb231cb",
   "outputs": [],
   "execution_count": 14
  },
  {
   "metadata": {
    "ExecuteTime": {
     "end_time": "2024-10-24T04:28:27.019303Z",
     "start_time": "2024-10-24T04:22:55.241357Z"
    }
   },
   "cell_type": "code",
   "source": [
    "# Dự đoán trên tập kiểm tra\n",
    "predictions = model.transform(test_data)\n",
    "\n",
    "# Hiển thị một số dự đoán\n",
    "predictions.select(\"fare_amount\", \"prediction\").show(10)\n",
    "\n",
    "# Đánh giá độ chính xác mô hình\n",
    "evaluator = RegressionEvaluator(labelCol=\"fare_amount\", predictionCol=\"prediction\", metricName=\"rmse\")\n",
    "\n",
    "# Tính toán độ chính xác (RMSE)\n",
    "rmse = evaluator.evaluate(predictions)\n",
    "print(f\"Root Mean Squared Error (RMSE): {rmse}\")\n"
   ],
   "id": "d24bce38a1413a29",
   "outputs": [
    {
     "name": "stdout",
     "output_type": "stream",
     "text": [
      "+-----------+------------------+\n",
      "|fare_amount|        prediction|\n",
      "+-----------+------------------+\n",
      "|       15.5|15.485866171693132|\n",
      "|        2.5|13.607108843983537|\n",
      "|       18.7|19.977570323979986|\n",
      "|       28.5| 31.81938474843964|\n",
      "|       15.5|15.525637311764033|\n",
      "|        9.0|    9.446476202003|\n",
      "|        8.5| 8.400292167161938|\n",
      "|        8.5|  8.64997674930264|\n",
      "|       19.5|18.966954890177295|\n",
      "|       15.5|15.474539573711981|\n",
      "+-----------+------------------+\n",
      "only showing top 10 rows\n",
      "\n",
      "Root Mean Squared Error (RMSE): 69.18726898822794\n"
     ]
    }
   ],
   "execution_count": 15
  },
  {
   "metadata": {
    "ExecuteTime": {
     "end_time": "2024-10-24T04:39:07.837925Z",
     "start_time": "2024-10-24T04:39:04.716017Z"
    }
   },
   "cell_type": "code",
   "source": [
    "# Đặt đường dẫn để lưu mô hình (thư mục cục bộ)\n",
    "local_model_path = \"file:///C:/Model_Taxi/taxi_fare_rf_model\"\n",
    "\n",
    "# Lưu mô hình\n",
    "model.save(local_model_path)\n"
   ],
   "id": "394f2ff22aa1b3f5",
   "outputs": [],
   "execution_count": 17
  },
  {
   "metadata": {
    "ExecuteTime": {
     "end_time": "2024-10-24T04:39:44.587699Z",
     "start_time": "2024-10-24T04:39:40.471930Z"
    }
   },
   "cell_type": "code",
   "source": [
    "from pyspark.ml.regression import RandomForestRegressionModel\n",
    "\n",
    "# Đường dẫn tới mô hình đã lưu\n",
    "model_path = \"file:///C:/Model_Taxi/taxi_fare_rf_model\"\n",
    "\n",
    "# Tải mô hình\n",
    "loaded_model = RandomForestRegressionModel.load(model_path)\n",
    "\n",
    "# Sử dụng mô hình đã tải để dự đoán\n",
    "new_predictions = loaded_model.transform(test_data)\n",
    "\n",
    "# Hiển thị kết quả dự đoán\n",
    "new_predictions.show(10)\n"
   ],
   "id": "f108876e24ebeddc",
   "outputs": [
    {
     "name": "stdout",
     "output_type": "stream",
     "text": [
      "+--------+--------------------+---------------------+---------------+-------------+------------------+------------------+----------+------------------+-----------------+------------+-----------+------------------+-----------+-----------+------------------+--------------------+------------------+\n",
      "|VendorID|tpep_pickup_datetime|tpep_dropoff_datetime|passenger_count|trip_distance|  pickup_longitude|   pickup_latitude|RatecodeID| dropoff_longitude| dropoff_latitude|payment_type|fare_amount|     trip_duration|pickup_hour|pickup_year|distance_haversine|            features|        prediction|\n",
      "+--------+--------------------+---------------------+---------------+-------------+------------------+------------------+----------+------------------+-----------------+------------+-----------+------------------+-----------+-----------+------------------+--------------------+------------------+\n",
      "|       1| 2015-01-01 00:07:37|  2015-01-01 00:28:59|              1|          3.4|-74.00212860107422| 40.73951721191406|         1|-73.98250579833984|40.77208709716797|           2|       15.5|21.366666666666667|          0|       2015| 3.980938895961469|[1.0,3.4,-74.0021...|15.485866171693132|\n",
      "|       1| 2015-01-01 00:10:11|  2015-01-01 00:10:11|              1|          0.0|-73.95531463623047| 40.82014846801758|         1|               0.0|              0.0|           2|        2.5|               0.0|          0|       2015| 8665.072222157714|(10,[0,2,3,8,9],[...|13.607108843983537|\n",
      "|       1| 2015-01-01 00:10:29|  2015-01-01 00:34:56|              1|          4.7|-73.99886322021484| 40.75448989868164|         1|-73.94706726074219|40.77994918823242|           1|       18.7|             24.45|          0|       2015| 5.200145398190411|[1.0,4.7,-73.9988...|19.977570323979986|\n",
      "|       1| 2015-01-01 00:18:30|  2015-01-01 00:38:25|              1|          9.8|-74.01781463623047|40.705257415771484|         1|-73.94049835205078| 40.8001823425293|           2|       28.5|19.916666666666668|          0|       2015|12.402671517754667|[1.0,9.8,-74.0178...| 31.81938474843964|\n",
      "|       1| 2015-01-01 00:25:37|  2015-01-01 00:45:15|              2|          3.7|-73.99615478515625| 40.73710250854492|         1| -73.9840316772461|40.77521514892578|           3|       15.5|19.633333333333333|          0|       2015| 4.359216037096271|[2.0,3.7,-73.9961...|15.525637311764033|\n",
      "|       1| 2015-01-01 00:30:07|  2015-01-01 00:38:39|              2|          2.3|-73.98883056640625| 40.73655319213867|         1|-74.00698852539062|40.70832443237305|           2|        9.0| 8.533333333333333|          0|       2015| 3.492021180316339|[2.0,2.3,-73.9888...|    9.446476202003|\n",
      "|       1| 2015-01-01 00:35:06|  2015-01-01 00:44:16|              1|          1.6|-73.94535827636719|  40.8336181640625|         1|-73.95640563964844|40.81352615356445|           2|        8.5| 9.166666666666666|          0|       2015|2.4198009445088977|[1.0,1.6,-73.9453...| 8.400292167161938|\n",
      "|       1| 2015-01-01 00:41:53|  2015-01-01 00:50:42|              1|          1.9|-73.98102569580078| 40.74462127685547|         1|-73.99777221679688|40.72256851196289|           1|        8.5| 8.816666666666666|          0|       2015| 2.829147499063179|[1.0,1.9,-73.9810...|  8.64997674930264|\n",
      "|       1| 2015-01-01 00:56:45|  2015-01-01 01:24:31|              2|          4.0|-73.96378326416016| 40.77531433105469|         1|-74.00186157226562|40.73950958251953|           1|       19.5|27.766666666666666|          0|       2015| 5.112466380137152|[2.0,4.0,-73.9637...|18.966954890177295|\n",
      "|       1| 2015-01-01 00:58:15|  2015-01-01 01:18:02|              4|          3.6|  -74.008544921875| 40.72603988647461|         1|-73.97769165039062|40.74897003173828|           1|       15.5|19.783333333333335|          0|       2015|3.6412063778158097|[4.0,3.6,-74.0085...|15.474539573711981|\n",
      "+--------+--------------------+---------------------+---------------+-------------+------------------+------------------+----------+------------------+-----------------+------------+-----------+------------------+-----------+-----------+------------------+--------------------+------------------+\n",
      "only showing top 10 rows\n",
      "\n"
     ]
    }
   ],
   "execution_count": 18
  },
  {
   "metadata": {},
   "cell_type": "code",
   "outputs": [],
   "execution_count": null,
   "source": "",
   "id": "ca3ff969a718efbe"
  },
  {
   "metadata": {
    "ExecuteTime": {
     "end_time": "2024-10-24T01:16:26.111430Z",
     "start_time": "2024-10-24T01:16:25.920434Z"
    }
   },
   "cell_type": "code",
   "source": "spark.stop()\n",
   "id": "f7b51c8df7011392",
   "outputs": [],
   "execution_count": 14
  },
  {
   "metadata": {},
   "cell_type": "code",
   "outputs": [],
   "execution_count": null,
   "source": "",
   "id": "bac9f1d4d0f9057"
  }
 ],
 "metadata": {
  "kernelspec": {
   "display_name": "Python 3",
   "language": "python",
   "name": "python3"
  },
  "language_info": {
   "codemirror_mode": {
    "name": "ipython",
    "version": 2
   },
   "file_extension": ".py",
   "mimetype": "text/x-python",
   "name": "python",
   "nbconvert_exporter": "python",
   "pygments_lexer": "ipython2",
   "version": "2.7.6"
  }
 },
 "nbformat": 4,
 "nbformat_minor": 5
}
